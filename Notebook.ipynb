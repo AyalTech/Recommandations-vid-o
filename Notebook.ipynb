{
 "cells": [
  {
   "cell_type": "markdown",
   "metadata": {},
   "source": [
    "# Notebook du projet : Apprentissage et factorisation matricielle\n",
    "--------------\n",
    "* ISSELNANE Hacene\n",
    "* HADDAD Ayale \n",
    "\n",
    "\n",
    "-------\n",
    "### Ce notebook contient les trois parties : \n",
    " * Fichier python décrivant la compilation et le formattage des données d'entraînement et de test\n",
    " * Les fichiers des paramètres associés aux deux modèles entraînés;\n",
    " * Fichier python permettant de charger et d'appliquer les 2 modèles sur les données de test. "
   ]
  },
  {
   "cell_type": "markdown",
   "metadata": {},
   "source": [
    "## Import des librairies et fichiers d'implémentation"
   ]
  },
  {
   "cell_type": "code",
   "execution_count": 1,
   "metadata": {},
   "outputs": [],
   "source": [
    "import numpy as np\n",
    "import pandas as pd\n",
    "from tqdm._tqdm_notebook import tqdm_notebook as tqdm\n",
    "from dataset import Dataset\n",
    "from dataset import Reader"
   ]
  },
  {
   "cell_type": "markdown",
   "metadata": {},
   "source": [
    "## Chargement des données du projet"
   ]
  },
  {
   "cell_type": "code",
   "execution_count": 13,
   "metadata": {},
   "outputs": [],
   "source": [
    "bookmarks = pd.read_csv('../Dataset/bookmarks.csv')"
   ]
  },
  {
   "cell_type": "code",
   "execution_count": 15,
   "metadata": {},
   "outputs": [],
   "source": [
    "asset_genre = pd.read_csv('../Dataset/asset_genres.csv',encoding=\"utf8\")\n",
    "assets = pd.read_csv('../Dataset/assets.csv',encoding=\"utf8\")\n",
    "favorites = pd.read_csv('../Dataset/favorites.csv',encoding=\"utf8\")\n",
    "genres = pd.read_csv('../Dataset/genres.csv',encoding=\"utf8\")\n",
    "ratings = pd.read_csv('../Dataset/ratings.csv',encoding=\"utf8\")"
   ]
  },
  {
   "cell_type": "markdown",
   "metadata": {},
   "source": [
    "## Création d'un dataframe regroupant les données utiles au projet"
   ]
  },
  {
   "cell_type": "code",
   "execution_count": 16,
   "metadata": {},
   "outputs": [],
   "source": [
    "bookmarks_merged= bookmarks.merge(right=ratings,on=['id_profile','id_asset'],how='left')"
   ]
  },
  {
   "cell_type": "code",
   "execution_count": 17,
   "metadata": {},
   "outputs": [],
   "source": [
    "bookmarks_merged= bookmarks_merged.merge(right=favorites,on=['id_profile','id_asset'],how='left')"
   ]
  },
  {
   "cell_type": "code",
   "execution_count": 18,
   "metadata": {},
   "outputs": [],
   "source": [
    "bookmarks_merged = bookmarks_merged.drop(columns=['time_x','time_y'])"
   ]
  },
  {
   "cell_type": "code",
   "execution_count": 19,
   "metadata": {},
   "outputs": [],
   "source": [
    "bookmarks_merged= bookmarks_merged.rename(columns ={'added_date':'favorite_date'})"
   ]
  },
  {
   "cell_type": "markdown",
   "metadata": {},
   "source": [
    "### Calcul des ${R_{ui}}$ pour chaque entrée  "
   ]
  },
  {
   "cell_type": "code",
   "execution_count": 27,
   "metadata": {},
   "outputs": [],
   "source": [
    "def intereset_generator_optimize(dataset):\n",
    "    dim = dataset.shape[0]\n",
    "    dataset_numpy = np.nan_to_num(dataset.to_numpy())\n",
    "    w = np.array([1] * dim)\n",
    "    n = np.array([dataset_numpy[x,2] for x in tqdm(range(0,dim))])\n",
    "    f = np.array([5 if (dataset_numpy[x,3] != 0) else 0 for x in tqdm(range(0,dim))])\n",
    "    return w + n + f"
   ]
  },
  {
   "cell_type": "code",
   "execution_count": 28,
   "metadata": {},
   "outputs": [
    {
     "data": {
      "application/vnd.jupyter.widget-view+json": {
       "model_id": "83d4630772fe455684921e8f34ccf690",
       "version_major": 2,
       "version_minor": 0
      },
      "text/plain": [
       "HBox(children=(IntProgress(value=0, max=73380629), HTML(value='')))"
      ]
     },
     "metadata": {},
     "output_type": "display_data"
    },
    {
     "name": "stdout",
     "output_type": "stream",
     "text": [
      "\n"
     ]
    },
    {
     "data": {
      "application/vnd.jupyter.widget-view+json": {
       "model_id": "7f58505336c747fd8c6ca41c4943008d",
       "version_major": 2,
       "version_minor": 0
      },
      "text/plain": [
       "HBox(children=(IntProgress(value=0, max=73380629), HTML(value='')))"
      ]
     },
     "metadata": {},
     "output_type": "display_data"
    },
    {
     "name": "stdout",
     "output_type": "stream",
     "text": [
      "\n"
     ]
    }
   ],
   "source": [
    "bookmarks_merged['rui'] = intereset_generator_optimize(bookmarks_merged)"
   ]
  },
  {
   "cell_type": "markdown",
   "metadata": {},
   "source": [
    "## Split des données en Train & Test"
   ]
  },
  {
   "cell_type": "code",
   "execution_count": 30,
   "metadata": {},
   "outputs": [],
   "source": [
    "bookmarks_idx_train = np.load('../Dataset/bookmarks_idx_train.npy')\n",
    "bookmarks_idx_test = np.load('../Dataset/bookmarks_idx_test.npy')"
   ]
  },
  {
   "cell_type": "code",
   "execution_count": 32,
   "metadata": {},
   "outputs": [],
   "source": [
    "trainset = bookmarks_merged.iloc[bookmarks_idx_train]\n",
    "testset = bookmarks_merged.iloc[bookmarks_idx_test]"
   ]
  },
  {
   "cell_type": "markdown",
   "metadata": {},
   "source": [
    "## Création des datasets d'entrainement et de test"
   ]
  },
  {
   "cell_type": "code",
   "execution_count": 34,
   "metadata": {},
   "outputs": [],
   "source": [
    "reader = Reader(rating_scale=(1, 5))\n",
    "data = Dataset.load_from_df(trainset[['id_profile', 'id_asset', 'rui']], reader)\n",
    "testdata = Dataset.load_from_df(testset[['id_profile', 'id_asset', 'rui']], reader)\n",
    "trainset = data.build_full_trainset()\n",
    "test = testdata.build_full_trainset().build_testset()"
   ]
  },
  {
   "cell_type": "markdown",
   "metadata": {},
   "source": [
    "## Aproche Baseline"
   ]
  },
  {
   "cell_type": "code",
   "execution_count": 37,
   "metadata": {},
   "outputs": [],
   "source": [
    "from baseline import Baseline\n",
    "\n",
    "baseline_approche = Baseline(learning_rate= .00005, reg=.002, n_epochs=20)"
   ]
  },
  {
   "cell_type": "code",
   "execution_count": 55,
   "metadata": {},
   "outputs": [
    {
     "name": "stdout",
     "output_type": "stream",
     "text": [
      "Estimating biases using sgd...\n"
     ]
    }
   ],
   "source": [
    "baseline_approche.fit(trainset)"
   ]
  },
  {
   "cell_type": "code",
   "execution_count": 49,
   "metadata": {},
   "outputs": [],
   "source": [
    "predictions = baseline_approche.test(test)"
   ]
  },
  {
   "cell_type": "code",
   "execution_count": 50,
   "metadata": {},
   "outputs": [
    {
     "name": "stdout",
     "output_type": "stream",
     "text": [
      "RMSE: 0.5393\n"
     ]
    },
    {
     "data": {
      "text/plain": [
       "0.539280270704883"
      ]
     },
     "execution_count": 50,
     "metadata": {},
     "output_type": "execute_result"
    }
   ],
   "source": [
    "baseline_approche.rmse(predictions)"
   ]
  },
  {
   "cell_type": "markdown",
   "metadata": {},
   "source": [
    "## SVD++"
   ]
  },
  {
   "cell_type": "code",
   "execution_count": 66,
   "metadata": {},
   "outputs": [],
   "source": [
    "from svdpp import SVDpp\n",
    "\n",
    "svdpp_approche = SVDpp(n_factors=20, n_epochs=20, init_mean=0, init_std_dev=.1,lr_all=.007, reg_all=.02)"
   ]
  },
  {
   "cell_type": "code",
   "execution_count": 65,
   "metadata": {},
   "outputs": [
    {
     "name": "stdout",
     "output_type": "stream",
     "text": [
      "Estimating biases using sgd...\n"
     ]
    }
   ],
   "source": [
    "svdpp_approche.fit(trainset)"
   ]
  },
  {
   "cell_type": "code",
   "execution_count": 61,
   "metadata": {},
   "outputs": [],
   "source": [
    "predictions = svdpp_approche.estimate(test)"
   ]
  },
  {
   "cell_type": "code",
   "execution_count": 58,
   "metadata": {},
   "outputs": [
    {
     "name": "stdout",
     "output_type": "stream",
     "text": [
      "RMSE: 0.3912\n"
     ]
    },
    {
     "data": {
      "text/plain": [
       "0.391245231240562"
      ]
     },
     "execution_count": 58,
     "metadata": {},
     "output_type": "execute_result"
    }
   ],
   "source": [
    "svdpp_approche.rmse(predictions)"
   ]
  }
 ],
 "metadata": {
  "kernelspec": {
   "display_name": "Python 3",
   "language": "python",
   "name": "python3"
  },
  "language_info": {
   "codemirror_mode": {
    "name": "ipython",
    "version": 3
   },
   "file_extension": ".py",
   "mimetype": "text/x-python",
   "name": "python",
   "nbconvert_exporter": "python",
   "pygments_lexer": "ipython3",
   "version": "3.8.1"
  }
 },
 "nbformat": 4,
 "nbformat_minor": 2
}
